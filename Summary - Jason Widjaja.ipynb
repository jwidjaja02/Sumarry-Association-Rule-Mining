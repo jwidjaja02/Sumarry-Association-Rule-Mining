{
 "cells": [
  {
   "cell_type": "markdown",
   "id": "7b85697f",
   "metadata": {},
   "source": [
    "Association Rule Mining\n",
    "\n",
    "Pengertian Data Mining\n",
    "    \n",
    "    Data mining adalah proses pengumpulan dan pengolahan data yang bertujuan untuk mengekstrak informasi penting pada data. Proses pengumpulan dan ekstraksi informasi tersebut dapat dilakukan menggunakan perangkat lunak dengan bantuan perhitungan statistika, matematika, ataupun teknologi Artificial Intelligence (AI). Data mining sering disebut juga Knowledge Discovery in Database (KDD). (Setiawan, 2021) https://www.dicoding.com/blog/apa-itu-data-mining/\n",
    "\n",
    "Metode Data Mining \n",
    "\n",
    "    Terdapat beberapa metode dalam data mining, yaitu Descriptive, Predictive, Estimation, Clarification, Clustering and Association. Namun yang saya bahas hanya Association. Association dalam dunia bisnis sering disebut dengan Market Basket Analysis. Association ini adalah metode data mining yang bertujun mencari kumpulan items atau pola yang sering muncul bersamaan. Tugas association berusaha untuk mengungkapkan hubungan antara dua atau lebih item. Association rule ini umumnya IF-Then. Ada beberapa hal yang digunakan untuk mengukur sekumpulan items ini sering muncul bersamaan atau tidak. Dalam menentukan suatu association rule, terdapat suatu interestingness measure yang didapat dari hasil pengolahan data dengan perhitugan tertentu, yaitu:\n",
    "1.\tSupport of an item set, persentase dari semua transaksi yang terjadi.\n",
    "2.\tConfidence of an association, kuatnya hubungan antar item dalam association rule. \n",
    "\n",
    "Association Rule Mining \n",
    "\n",
    "    Analisis asosiasi atau association rule mining adalah teknik data mining untuk menemukan aturan asosiatif antara suatu kombinasi item. Analisis asosiasi dikenal juga sebagai salah satu teknik data mining yang menjadi dasar dari salah satu teknik data mining lainnya. Secara khusus, salah satu tahap analisis asosiasi yang menarik perhatian banyak peneliti untuk menghasilkan algoritma yang efisien, yaitu analisis pola frekuensi tinggi (frequent pattern mining)\n",
    "    \n",
    "    Secara umum association rule mempunyai bentuk : LHS => RHS dimana LHS dan RHS tersebut adalah himpunan item; jika setiap item-item dalam LHS terdapat dalam transaksi maka item-item dalam RHS juga terdapat dalam transaksi. Aturan asosiasi biasanya dinyatakan dalam bentuk\n",
    "    \n",
    " {A,B} => {C} (support = 10%, confidence = 50%)\n",
    " \n",
    " "
   ]
  },
  {
   "cell_type": "markdown",
   "id": "03d86fea",
   "metadata": {},
   "source": [
    "1.Confidence \n",
    "\n",
    "    Confidence dari association rule adalah ukuran ketepatan suatu rule, yaitu presentasi transaksi dalam database yang mengandung A dan mengandung B. Dengan adanya confidence kita dapat mengukur kuatnya hubungan antar-item dalam association rule. Rumus untuk menghitung nilai confidence dari dua item tersebut adalalah sebagai berikut;\n",
    " Confidence = P( B | A )\n",
    "\n",
    "2.Support \n",
    "    \n",
    "    Support dari suatu association rule adalah presentasi kombinasi item tersebut dalam database, dimana jika mempunyai item A dan item B maka support adalah proporsi dari transaksi dalam database yang mengandung A dan B. Rumus untuk menghitung nilai support dari dua item tersebut adalah sebagai berikut;\n",
    "    \n",
    "Support ( A, B ) = P( A ∩ B )\n",
    "\n",
    "3.Algoritma Apriori \n",
    "\n",
    "    Algoritma apriori adalah langkah untuk proses menemukan frequent-itemset dengan melakukan iterasi pada data. Dimana itemset adalah himpunan item-item yang berada di dalam himpunan yang diolah oleh sistem, sedangkan frequent-itemset menunjukan itemset yang memiliki frekuensi kemunculan lebih dari nilai minimum yang telah ditentukan (ф). Pada iterasi ke-k, semua itemset yang ditemukan yang memiliki k item disebut k-itemset. Setiap iterasi terdiri dari dua tahap yaitu pembangkitan kandidtat dan pembangkitan rule. Pada tahap pembangkitan kandidat (candidat generation) dimana himpunan semua frequent(k – 1)-itemset yang digunakan pada pass ke-(k-1) digunakan untuk membangkitkan kandidat itemset . Prosedur pembangkitan kandidat menjamin bahwa adalah superset dari himpunan. Kemudian di-scan dalam tahap perhitungan support (support counting). Pada akhir pass diperiksa untuk menentukan kandidat mana yang muncul, menghasilkan . Perhitungan support berakhir ketika atau kosong. Pada tahap membangkitkan rule, akan dibangkitkan lebih dahulu candidate rule. Candidate rule berisi semua kemungkinan rule yang memiliki support > minimum support karena inputan candidate rule adalah frequent-itemset. Kemudian candidate rule akan di-join dengan table F untuk menemukan support antecedent. Confidence rule dihitung dengan cara membandingkan support rule dengan support antecendent rule. Hanya rule yang mempunyai confidence > minimum confidence yang disimpan dalam table rule.\n",
    "   \n",
    "4.Lift Ratio\n",
    "\n",
    "    Lift ratio adalah suatu ukuran untuk mengetahui kekuatan aturan asosisasi (association rule) yang telah terbentuk. Nilai lift ratio biasanya digunakan sebagai penentu apakah aturan asosiasi valid atau tidak valid.\n",
    "\n"
   ]
  },
  {
   "cell_type": "markdown",
   "id": "e51c32a7",
   "metadata": {},
   "source": [
    "refrensi : \n",
    "\n",
    "    Setiawan, (2021) https://www.dicoding.com/blog/apa-itu-data-mining/\n",
    "    Mahatmyo, A. (2014). Sistem Informasi Akuntasi Suatu Pengantar. Yogyakarta: Deepublish.    \n",
    "    Kurniawan, E. (2012). Pemrograman Web Dinamis dengan ASP.NET 4.5. Yogyakarta: CV ANDI OFFSET.\n",
    "    Prasetyo, E. (2012). Data Mining Konsep dan Aplikasi menggunakan Matlab. Yogyakarta: CV ANDI.\n",
    "    Nofriansyah, D. (2012). Konsep Data Mining Sistem Pendukung Keputusan. Yogyakarta: CV BUDI UTAMA.\n",
    "    Hermawati, F. A. (2013). Data Mining. Yogyakarta: CV ANDI.\n",
    "    Irwansyah, E., & Moniaga, J. V. (Pengantar Teknologi Informasi). Rahasia Membangun Website Toko Online Berpenghasilan Jutaan Rupiah. Jakarta: Deepublish.\n",
    "    "
   ]
  },
  {
   "cell_type": "code",
   "execution_count": null,
   "id": "02000fe8",
   "metadata": {},
   "outputs": [],
   "source": []
  }
 ],
 "metadata": {
  "kernelspec": {
   "display_name": "Python 3",
   "language": "python",
   "name": "python3"
  },
  "language_info": {
   "codemirror_mode": {
    "name": "ipython",
    "version": 3
   },
   "file_extension": ".py",
   "mimetype": "text/x-python",
   "name": "python",
   "nbconvert_exporter": "python",
   "pygments_lexer": "ipython3",
   "version": "3.8.8"
  }
 },
 "nbformat": 4,
 "nbformat_minor": 5
}
